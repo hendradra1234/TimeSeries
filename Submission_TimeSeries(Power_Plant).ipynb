{
  "nbformat": 4,
  "nbformat_minor": 0,
  "metadata": {
    "colab": {
      "name": "Submission TimeSeries(Power_Plant).ipynb",
      "provenance": [],
      "collapsed_sections": []
    },
    "kernelspec": {
      "name": "python3",
      "display_name": "Python 3"
    }
  },
  "cells": [
    {
      "cell_type": "code",
      "metadata": {
        "id": "TYI4cfg_ow-W",
        "colab_type": "code",
        "colab": {
          "base_uri": "https://localhost:8080/",
          "height": 54
        },
        "outputId": "1a43a63e-f663-43d0-f9ed-df4823a87137"
      },
      "source": [
        "from google.colab import drive\n",
        "import os\n",
        "\n",
        "drive.mount('/content/gdrive/')\n",
        "os.environ['KAGGLE_CONFIG_DIR'] = '/content/gdrive/My Drive/Kaggle'\n",
        "zipfile = 'hourly-energy-consumption.zip'\n",
        "extfile = 'time_seriesSubmissioPowerPlant'"
      ],
      "execution_count": null,
      "outputs": [
        {
          "output_type": "stream",
          "text": [
            "Drive already mounted at /content/gdrive/; to attempt to forcibly remount, call drive.mount(\"/content/gdrive/\", force_remount=True).\n"
          ],
          "name": "stdout"
        }
      ]
    },
    {
      "cell_type": "code",
      "metadata": {
        "id": "f6wwlq1LXSb_",
        "colab_type": "code",
        "colab": {
          "base_uri": "https://localhost:8080/",
          "height": 34
        },
        "outputId": "7f5e511c-14cd-4ee7-c91e-8649b9cbcd94"
      },
      "source": [
        "cd /content/gdrive/My Drive/Kaggle"
      ],
      "execution_count": null,
      "outputs": [
        {
          "output_type": "stream",
          "text": [
            "/content/gdrive/My Drive/Kaggle\n"
          ],
          "name": "stdout"
        }
      ]
    },
    {
      "cell_type": "code",
      "metadata": {
        "id": "BbOKJstQoEC2",
        "colab_type": "code",
        "colab": {
          "base_uri": "https://localhost:8080/",
          "height": 34
        },
        "outputId": "b7b3f09b-29b5-42e2-a800-985505867d57"
      },
      "source": [
        "!kaggle datasets download -d robikscube/hourly-energy-consumption"
      ],
      "execution_count": null,
      "outputs": [
        {
          "output_type": "stream",
          "text": [
            "hourly-energy-consumption.zip: Skipping, found more recently modified local copy (use --force to force download)\n"
          ],
          "name": "stdout"
        }
      ]
    },
    {
      "cell_type": "code",
      "metadata": {
        "id": "-JfpjvI9epbg",
        "colab_type": "code",
        "colab": {
          "base_uri": "https://localhost:8080/",
          "height": 50
        },
        "outputId": "7de966fc-bfe7-4336-b76e-f83b188bb6a5"
      },
      "source": [
        "import zipfile as zf\n",
        "\n",
        "try:\n",
        "  extFile = zf.ZipFile(zipfile)\n",
        "  extFile.extractall(extfile)\n",
        "  extFile.close()\n",
        "  print('extraksi dataset selesai')\n",
        "except(FileExistsError,FileNotFoundError):\n",
        "  print('Dataset tidak ditemukan')\n",
        "except:\n",
        "  print('terjadi kesalahan')\n",
        "finally:\n",
        "  print('operation terminated')"
      ],
      "execution_count": null,
      "outputs": [
        {
          "output_type": "stream",
          "text": [
            "extraksi dataset selesai\n",
            "operation terminated\n"
          ],
          "name": "stdout"
        }
      ]
    },
    {
      "cell_type": "code",
      "metadata": {
        "id": "LJHU8QQbNeTJ",
        "colab_type": "code",
        "colab": {
          "base_uri": "https://localhost:8080/",
          "height": 252
        },
        "outputId": "7e90d719-7746-4e24-c703-50e36aaaed2f"
      },
      "source": [
        "os.listdir(extfile)"
      ],
      "execution_count": null,
      "outputs": [
        {
          "output_type": "execute_result",
          "data": {
            "text/plain": [
              "['AEP_hourly.csv',\n",
              " 'COMED_hourly.csv',\n",
              " 'EKPC_hourly.csv',\n",
              " 'FE_hourly.csv',\n",
              " 'DEOK_hourly.csv',\n",
              " 'NI_hourly.csv',\n",
              " 'PJME_hourly.csv',\n",
              " 'DOM_hourly.csv',\n",
              " 'DAYTON_hourly.csv',\n",
              " 'DUQ_hourly.csv',\n",
              " 'PJMW_hourly.csv',\n",
              " 'PJM_Load_hourly.csv',\n",
              " 'est_hourly.paruqet',\n",
              " 'pjm_hourly_est.csv']"
            ]
          },
          "metadata": {
            "tags": []
          },
          "execution_count": 5
        }
      ]
    },
    {
      "cell_type": "code",
      "metadata": {
        "id": "yFq9ohYUCuQM",
        "colab_type": "code",
        "colab": {
          "base_uri": "https://localhost:8080/",
          "height": 34
        },
        "outputId": "e364402f-4614-43a9-cdf3-f5b5fa37bdac"
      },
      "source": [
        "dir = os.listdir(extfile)\n",
        "datasetdir = os.path.join(extfile,'PJME_hourly.csv')\n",
        "\n",
        "print('Power Plan directory: {}'.format(datasetdir))"
      ],
      "execution_count": null,
      "outputs": [
        {
          "output_type": "stream",
          "text": [
            "Power Plan directory: time_seriesSubmissioPowerPlant/PJME_hourly.csv\n"
          ],
          "name": "stdout"
        }
      ]
    },
    {
      "cell_type": "code",
      "metadata": {
        "id": "u5pkT4lH3TLM",
        "colab_type": "code",
        "colab": {
          "base_uri": "https://localhost:8080/",
          "height": 402
        },
        "outputId": "7c76a2b2-fdcc-4841-889e-b0cc11f3ee89"
      },
      "source": [
        "import pandas as pd\n",
        "\n",
        "loadData_one = pd.read_csv(datasetdir,parse_dates=['Datetime'])\n",
        "loadData_one"
      ],
      "execution_count": null,
      "outputs": [
        {
          "output_type": "execute_result",
          "data": {
            "text/html": [
              "<div>\n",
              "<style scoped>\n",
              "    .dataframe tbody tr th:only-of-type {\n",
              "        vertical-align: middle;\n",
              "    }\n",
              "\n",
              "    .dataframe tbody tr th {\n",
              "        vertical-align: top;\n",
              "    }\n",
              "\n",
              "    .dataframe thead th {\n",
              "        text-align: right;\n",
              "    }\n",
              "</style>\n",
              "<table border=\"1\" class=\"dataframe\">\n",
              "  <thead>\n",
              "    <tr style=\"text-align: right;\">\n",
              "      <th></th>\n",
              "      <th>Datetime</th>\n",
              "      <th>PJME_MW</th>\n",
              "    </tr>\n",
              "  </thead>\n",
              "  <tbody>\n",
              "    <tr>\n",
              "      <th>0</th>\n",
              "      <td>2002-12-31 01:00:00</td>\n",
              "      <td>26498.0</td>\n",
              "    </tr>\n",
              "    <tr>\n",
              "      <th>1</th>\n",
              "      <td>2002-12-31 02:00:00</td>\n",
              "      <td>25147.0</td>\n",
              "    </tr>\n",
              "    <tr>\n",
              "      <th>2</th>\n",
              "      <td>2002-12-31 03:00:00</td>\n",
              "      <td>24574.0</td>\n",
              "    </tr>\n",
              "    <tr>\n",
              "      <th>3</th>\n",
              "      <td>2002-12-31 04:00:00</td>\n",
              "      <td>24393.0</td>\n",
              "    </tr>\n",
              "    <tr>\n",
              "      <th>4</th>\n",
              "      <td>2002-12-31 05:00:00</td>\n",
              "      <td>24860.0</td>\n",
              "    </tr>\n",
              "    <tr>\n",
              "      <th>...</th>\n",
              "      <td>...</td>\n",
              "      <td>...</td>\n",
              "    </tr>\n",
              "    <tr>\n",
              "      <th>145361</th>\n",
              "      <td>2018-01-01 20:00:00</td>\n",
              "      <td>44284.0</td>\n",
              "    </tr>\n",
              "    <tr>\n",
              "      <th>145362</th>\n",
              "      <td>2018-01-01 21:00:00</td>\n",
              "      <td>43751.0</td>\n",
              "    </tr>\n",
              "    <tr>\n",
              "      <th>145363</th>\n",
              "      <td>2018-01-01 22:00:00</td>\n",
              "      <td>42402.0</td>\n",
              "    </tr>\n",
              "    <tr>\n",
              "      <th>145364</th>\n",
              "      <td>2018-01-01 23:00:00</td>\n",
              "      <td>40164.0</td>\n",
              "    </tr>\n",
              "    <tr>\n",
              "      <th>145365</th>\n",
              "      <td>2018-01-02 00:00:00</td>\n",
              "      <td>38608.0</td>\n",
              "    </tr>\n",
              "  </tbody>\n",
              "</table>\n",
              "<p>145366 rows × 2 columns</p>\n",
              "</div>"
            ],
            "text/plain": [
              "                  Datetime  PJME_MW\n",
              "0      2002-12-31 01:00:00  26498.0\n",
              "1      2002-12-31 02:00:00  25147.0\n",
              "2      2002-12-31 03:00:00  24574.0\n",
              "3      2002-12-31 04:00:00  24393.0\n",
              "4      2002-12-31 05:00:00  24860.0\n",
              "...                    ...      ...\n",
              "145361 2018-01-01 20:00:00  44284.0\n",
              "145362 2018-01-01 21:00:00  43751.0\n",
              "145363 2018-01-01 22:00:00  42402.0\n",
              "145364 2018-01-01 23:00:00  40164.0\n",
              "145365 2018-01-02 00:00:00  38608.0\n",
              "\n",
              "[145366 rows x 2 columns]"
            ]
          },
          "metadata": {
            "tags": []
          },
          "execution_count": 7
        }
      ]
    },
    {
      "cell_type": "code",
      "metadata": {
        "id": "kqGeNMfd3q99",
        "colab_type": "code",
        "colab": {
          "base_uri": "https://localhost:8080/",
          "height": 67
        },
        "outputId": "bee9c475-8705-4710-f234-b54436604442"
      },
      "source": [
        "loadData_one.isnull().sum()"
      ],
      "execution_count": null,
      "outputs": [
        {
          "output_type": "execute_result",
          "data": {
            "text/plain": [
              "Datetime    0\n",
              "PJME_MW     0\n",
              "dtype: int64"
            ]
          },
          "metadata": {
            "tags": []
          },
          "execution_count": 8
        }
      ]
    },
    {
      "cell_type": "code",
      "metadata": {
        "id": "x4Au_qPYRDZs",
        "colab_type": "code",
        "colab": {
          "base_uri": "https://localhost:8080/",
          "height": 360
        },
        "outputId": "242992fc-7d73-43e8-e341-fa188080682f"
      },
      "source": [
        "powerplan = loadData_one.rename(columns={'Datetime':'datetime','PJME_MW':'pjm_mw'})\n",
        "\n",
        "normalizedata = powerplan\n",
        "powerplantqty = len(normalizedata)\n",
        "print('banyak dataset: {}'.format(powerplantqty))\n",
        "normalizedata.head(10)"
      ],
      "execution_count": null,
      "outputs": [
        {
          "output_type": "stream",
          "text": [
            "banyak dataset: 145366\n"
          ],
          "name": "stdout"
        },
        {
          "output_type": "execute_result",
          "data": {
            "text/html": [
              "<div>\n",
              "<style scoped>\n",
              "    .dataframe tbody tr th:only-of-type {\n",
              "        vertical-align: middle;\n",
              "    }\n",
              "\n",
              "    .dataframe tbody tr th {\n",
              "        vertical-align: top;\n",
              "    }\n",
              "\n",
              "    .dataframe thead th {\n",
              "        text-align: right;\n",
              "    }\n",
              "</style>\n",
              "<table border=\"1\" class=\"dataframe\">\n",
              "  <thead>\n",
              "    <tr style=\"text-align: right;\">\n",
              "      <th></th>\n",
              "      <th>datetime</th>\n",
              "      <th>pjm_mw</th>\n",
              "    </tr>\n",
              "  </thead>\n",
              "  <tbody>\n",
              "    <tr>\n",
              "      <th>0</th>\n",
              "      <td>2002-12-31 01:00:00</td>\n",
              "      <td>26498.0</td>\n",
              "    </tr>\n",
              "    <tr>\n",
              "      <th>1</th>\n",
              "      <td>2002-12-31 02:00:00</td>\n",
              "      <td>25147.0</td>\n",
              "    </tr>\n",
              "    <tr>\n",
              "      <th>2</th>\n",
              "      <td>2002-12-31 03:00:00</td>\n",
              "      <td>24574.0</td>\n",
              "    </tr>\n",
              "    <tr>\n",
              "      <th>3</th>\n",
              "      <td>2002-12-31 04:00:00</td>\n",
              "      <td>24393.0</td>\n",
              "    </tr>\n",
              "    <tr>\n",
              "      <th>4</th>\n",
              "      <td>2002-12-31 05:00:00</td>\n",
              "      <td>24860.0</td>\n",
              "    </tr>\n",
              "    <tr>\n",
              "      <th>5</th>\n",
              "      <td>2002-12-31 06:00:00</td>\n",
              "      <td>26222.0</td>\n",
              "    </tr>\n",
              "    <tr>\n",
              "      <th>6</th>\n",
              "      <td>2002-12-31 07:00:00</td>\n",
              "      <td>28702.0</td>\n",
              "    </tr>\n",
              "    <tr>\n",
              "      <th>7</th>\n",
              "      <td>2002-12-31 08:00:00</td>\n",
              "      <td>30698.0</td>\n",
              "    </tr>\n",
              "    <tr>\n",
              "      <th>8</th>\n",
              "      <td>2002-12-31 09:00:00</td>\n",
              "      <td>31800.0</td>\n",
              "    </tr>\n",
              "    <tr>\n",
              "      <th>9</th>\n",
              "      <td>2002-12-31 10:00:00</td>\n",
              "      <td>32359.0</td>\n",
              "    </tr>\n",
              "  </tbody>\n",
              "</table>\n",
              "</div>"
            ],
            "text/plain": [
              "             datetime   pjm_mw\n",
              "0 2002-12-31 01:00:00  26498.0\n",
              "1 2002-12-31 02:00:00  25147.0\n",
              "2 2002-12-31 03:00:00  24574.0\n",
              "3 2002-12-31 04:00:00  24393.0\n",
              "4 2002-12-31 05:00:00  24860.0\n",
              "5 2002-12-31 06:00:00  26222.0\n",
              "6 2002-12-31 07:00:00  28702.0\n",
              "7 2002-12-31 08:00:00  30698.0\n",
              "8 2002-12-31 09:00:00  31800.0\n",
              "9 2002-12-31 10:00:00  32359.0"
            ]
          },
          "metadata": {
            "tags": []
          },
          "execution_count": 9
        }
      ]
    },
    {
      "cell_type": "code",
      "metadata": {
        "id": "adys5jzARlFj",
        "colab_type": "code",
        "colab": {
          "base_uri": "https://localhost:8080/",
          "height": 101
        },
        "outputId": "1332d78f-33c0-4655-d889-6c33a1a7e194"
      },
      "source": [
        "dataMae = (max(normalizedata.pjm_mw)-min(normalizedata.pjm_mw))\n",
        "split1 = 0.10\n",
        "split2 = 0.032\n",
        "dataMaesix = int(dataMae * split1)\n",
        "dataMaetfv = int(dataMae*split2)\n",
        "mae10 = dataMaesix / 10000\n",
        "mae06 = dataMaetfv / 10000\n",
        "\n",
        "print('Skala maximal data: {}'.format(dataMae))\n",
        "print('skala data {}%: {}'.format((split1*100),dataMaesix))\n",
        "print('skala data {}%: {}'.format((split2*100),dataMaetfv))\n",
        "print('skala data {}% mae: {}'.format((split1*100),mae10))\n",
        "print('skala data {}% mae: {}'.format((split2*100),mae06))"
      ],
      "execution_count": null,
      "outputs": [
        {
          "output_type": "stream",
          "text": [
            "Skala maximal data: 47465.0\n",
            "skala data 10.0%: 4746\n",
            "skala data 3.2%: 1518\n",
            "skala data 10.0% mae: 0.4746\n",
            "skala data 3.2% mae: 0.1518\n"
          ],
          "name": "stdout"
        }
      ]
    },
    {
      "cell_type": "code",
      "metadata": {
        "id": "YfLjRBga36A9",
        "colab_type": "code",
        "colab": {
          "base_uri": "https://localhost:8080/",
          "height": 309
        },
        "outputId": "ecb52fb4-1feb-46ae-9bfb-a5e869bcbf66"
      },
      "source": [
        "import matplotlib.pyplot as plt\n",
        "\n",
        "datetime = normalizedata.datetime.values\n",
        "output = normalizedata.pjm_mw.values\n",
        "Title = 'Power Plan Output'\n",
        "\n",
        "def plotting(Xaxes=[],Yaxes=[],title=''):\n",
        "  plt.figure(figsize=(20,5))\n",
        "  plt.plot(Xaxes,Yaxes)\n",
        "  plt.xticks(rotation=45)\n",
        "  plt.title(title,fontsize=20)\n",
        "  plt.xlabel('date',fontsize=12)\n",
        "  plt.ylabel('Power Plan output',fontsize=12)\n",
        "  plt.show()  \n",
        "\n",
        "plotting(datetime,output,Title)\n"
      ],
      "execution_count": null,
      "outputs": [
        {
          "output_type": "display_data",
          "data": {
            "image/png": "[encoded data removed]",
            "text/plain": [
              "<Figure size 1440x360 with 1 Axes>"
            ]
          },
          "metadata": {
            "tags": [],
            "needs_background": "light"
          }
        }
      ]
    },
    {
      "cell_type": "code",
      "metadata": {
        "id": "5ZS7ys80eNb0",
        "colab_type": "code",
        "colab": {
          "base_uri": "https://localhost:8080/",
          "height": 168
        },
        "outputId": "434be474-4f12-414b-85a3-520240318f8e"
      },
      "source": [
        "normalizedata.info()"
      ],
      "execution_count": null,
      "outputs": [
        {
          "output_type": "stream",
          "text": [
            "<class 'pandas.core.frame.DataFrame'>\n",
            "RangeIndex: 145366 entries, 0 to 145365\n",
            "Data columns (total 2 columns):\n",
            " #   Column    Non-Null Count   Dtype         \n",
            "---  ------    --------------   -----         \n",
            " 0   datetime  145366 non-null  datetime64[ns]\n",
            " 1   pjm_mw    145366 non-null  float64       \n",
            "dtypes: datetime64[ns](1), float64(1)\n",
            "memory usage: 2.2 MB\n"
          ],
          "name": "stdout"
        }
      ]
    },
    {
      "cell_type": "code",
      "metadata": {
        "id": "PLq3w4RVKncl",
        "colab_type": "code",
        "colab": {
          "base_uri": "https://localhost:8080/",
          "height": 402
        },
        "outputId": "77fbcbfd-57c6-4d38-b6cd-5e0a343fbd56"
      },
      "source": [
        "from sklearn.preprocessing import MinMaxScaler\n",
        "from sklearn.preprocessing import StandardScaler\n",
        "import datetime\n",
        "\n",
        "data = normalizedata.values\n",
        "\n",
        "timePowerPlant = []\n",
        "PowerOutput = []\n",
        "\n",
        "for i in range(len(data)):\n",
        "  timePowerPlant.append(data[i,0])\n",
        "  PowerOutput.append(data[i,1])\n",
        "\n",
        "timePowerPlant = pd.DataFrame({'datetime':timePowerPlant})\n",
        "PowerOutput = pd.DataFrame({'pjm_mw':PowerOutput})\n",
        "\n",
        "def normalize(normalData):\n",
        "    scaler = MinMaxScaler(feature_range=(-1, 1))\n",
        "    dates_scaled = scaler.fit_transform(normalData.values)\n",
        "    return dates_scaled\n",
        "\n",
        "\n",
        "time = normalize(timePowerPlant)\n",
        "pwr = normalize(PowerOutput)  \n",
        "timeFinal = []\n",
        "pwrFinal = []\n",
        "for i in range(len(time)):\n",
        "  timeFinal.append(time[i,0])\n",
        "  pwrFinal.append(pwr[i,0])\n",
        "\n",
        "finalDataPowerPlant = pd.DataFrame({'datetime':timeFinal ,'pjm_kw':pwrFinal})\n",
        "\n",
        "finalDataPowerPlant"
      ],
      "execution_count": null,
      "outputs": [
        {
          "output_type": "execute_result",
          "data": {
            "text/html": [
              "<div>\n",
              "<style scoped>\n",
              "    .dataframe tbody tr th:only-of-type {\n",
              "        vertical-align: middle;\n",
              "    }\n",
              "\n",
              "    .dataframe tbody tr th {\n",
              "        vertical-align: top;\n",
              "    }\n",
              "\n",
              "    .dataframe thead th {\n",
              "        text-align: right;\n",
              "    }\n",
              "</style>\n",
              "<table border=\"1\" class=\"dataframe\">\n",
              "  <thead>\n",
              "    <tr style=\"text-align: right;\">\n",
              "      <th></th>\n",
              "      <th>datetime</th>\n",
              "      <th>pjm_kw</th>\n",
              "    </tr>\n",
              "  </thead>\n",
              "  <tbody>\n",
              "    <tr>\n",
              "      <th>0</th>\n",
              "      <td>-0.879827</td>\n",
              "      <td>-0.496303</td>\n",
              "    </tr>\n",
              "    <tr>\n",
              "      <th>1</th>\n",
              "      <td>-0.879814</td>\n",
              "      <td>-0.553229</td>\n",
              "    </tr>\n",
              "    <tr>\n",
              "      <th>2</th>\n",
              "      <td>-0.879800</td>\n",
              "      <td>-0.577373</td>\n",
              "    </tr>\n",
              "    <tr>\n",
              "      <th>3</th>\n",
              "      <td>-0.879786</td>\n",
              "      <td>-0.584999</td>\n",
              "    </tr>\n",
              "    <tr>\n",
              "      <th>4</th>\n",
              "      <td>-0.879772</td>\n",
              "      <td>-0.565322</td>\n",
              "    </tr>\n",
              "    <tr>\n",
              "      <th>...</th>\n",
              "      <td>...</td>\n",
              "      <td>...</td>\n",
              "    </tr>\n",
              "    <tr>\n",
              "      <th>145361</th>\n",
              "      <td>0.929624</td>\n",
              "      <td>0.253134</td>\n",
              "    </tr>\n",
              "    <tr>\n",
              "      <th>145362</th>\n",
              "      <td>0.929638</td>\n",
              "      <td>0.230675</td>\n",
              "    </tr>\n",
              "    <tr>\n",
              "      <th>145363</th>\n",
              "      <td>0.929652</td>\n",
              "      <td>0.173833</td>\n",
              "    </tr>\n",
              "    <tr>\n",
              "      <th>145364</th>\n",
              "      <td>0.929666</td>\n",
              "      <td>0.079532</td>\n",
              "    </tr>\n",
              "    <tr>\n",
              "      <th>145365</th>\n",
              "      <td>0.929679</td>\n",
              "      <td>0.013968</td>\n",
              "    </tr>\n",
              "  </tbody>\n",
              "</table>\n",
              "<p>145366 rows × 2 columns</p>\n",
              "</div>"
            ],
            "text/plain": [
              "        datetime    pjm_kw\n",
              "0      -0.879827 -0.496303\n",
              "1      -0.879814 -0.553229\n",
              "2      -0.879800 -0.577373\n",
              "3      -0.879786 -0.584999\n",
              "4      -0.879772 -0.565322\n",
              "...          ...       ...\n",
              "145361  0.929624  0.253134\n",
              "145362  0.929638  0.230675\n",
              "145363  0.929652  0.173833\n",
              "145364  0.929666  0.079532\n",
              "145365  0.929679  0.013968\n",
              "\n",
              "[145366 rows x 2 columns]"
            ]
          },
          "metadata": {
            "tags": []
          },
          "execution_count": 31
        }
      ]
    },
    {
      "cell_type": "code",
      "metadata": {
        "id": "ECFZDoDekCUV",
        "colab_type": "code",
        "colab": {
          "base_uri": "https://localhost:8080/",
          "height": 67
        },
        "outputId": "f1b1fa02-9db3-424f-a851-5601ddc94a28"
      },
      "source": [
        "from sklearn.model_selection import TimeSeriesSplit\n",
        "import numpy as np\n",
        "\n",
        "tscv = TimeSeriesSplit(n_splits=4)#20% validation\n",
        "data = finalDataPowerPlant.values\n",
        "\n",
        "for tr_index,val_index in tscv.split(finalDataPowerPlant):\n",
        "  traindata,testdata = pd.DataFrame({'datetime':data[tr_index,0],'pjm_mw':data[tr_index,1]}) , pd.DataFrame({'datetime':data[val_index,0],'pjm_mw':data[val_index,1]})  \n",
        "n_steps = 1\n",
        "n_feature = 1\n",
        "\n",
        "data_train = traindata.pjm_mw.values\n",
        "data_val = testdata.pjm_mw.values\n",
        "\n",
        "lenData = len(finalDataPowerPlant)\n",
        "print('total dataset awal: {}'.format(lenData))\n",
        "print('train data qty: {}'.format(len(traindata)))\n",
        "print('test data qty : {}'.format(len(testdata)))"
      ],
      "execution_count": null,
      "outputs": [
        {
          "output_type": "stream",
          "text": [
            "total dataset awal: 145366\n",
            "train data qty: 116293\n",
            "test data qty : 29073\n"
          ],
          "name": "stdout"
        }
      ]
    },
    {
      "cell_type": "code",
      "metadata": {
        "id": "ILkeGmyvJ9NC",
        "colab_type": "code",
        "colab": {
          "base_uri": "https://localhost:8080/",
          "height": 34
        },
        "outputId": "baecb2cf-6d74-4e6d-f3ca-08f5e9f5b95c"
      },
      "source": [
        "traindata.shape"
      ],
      "execution_count": null,
      "outputs": [
        {
          "output_type": "execute_result",
          "data": {
            "text/plain": [
              "(116293, 2)"
            ]
          },
          "metadata": {
            "tags": []
          },
          "execution_count": 15
        }
      ]
    },
    {
      "cell_type": "code",
      "metadata": {
        "id": "C3BdUeSKPsgT",
        "colab_type": "code",
        "colab": {
          "base_uri": "https://localhost:8080/",
          "height": 269
        },
        "outputId": "e6f5cfda-b5a0-41e0-b4de-b0d9b83eee34"
      },
      "source": [
        "datetimeT = traindata.datetime.values\n",
        "powerT = traindata.pjm_mw.values\n",
        "datetimeTs = testdata.datetime.values\n",
        "powerTs = testdata.pjm_mw.values\n",
        "\n",
        "plt.figure(figsize=(20,5))\n",
        "plt.plot(datetimeT,powerT,label='training')\n",
        "plt.plot(datetimeTs,powerTs,linestyle='dashed',label='validation')\n",
        "plt.legend()\n",
        "plt.show()"
      ],
      "execution_count": null,
      "outputs": [
        {
          "output_type": "display_data",
          "data": {
            "image/png": "[encoded data removed]",
            "text/plain": [
              "<Figure size 1440x360 with 1 Axes>"
            ]
          },
          "metadata": {
            "tags": [],
            "needs_background": "light"
          }
        }
      ]
    },
    {
      "cell_type": "code",
      "metadata": {
        "id": "HjV6zJuB58Lo",
        "colab_type": "code",
        "colab": {
          "base_uri": "https://localhost:8080/",
          "height": 50
        },
        "outputId": "9f1ce97c-944f-40ea-c84e-16be25692212"
      },
      "source": [
        "import tensorflow as tf\n",
        "from tensorflow import keras\n",
        "\n",
        "\n",
        "def windowed_dataset(series,windows_size,batch_size,shuffle_buffer):\n",
        "  series = tf.expand_dims(series,axis=-1)\n",
        "  ds = tf.data.Dataset.from_tensor_slices(series)\n",
        "  ds = ds.window(windows_size + 1, shift=1, drop_remainder=True)\n",
        "  ds = ds.flat_map(lambda w: w.batch(windows_size + 1))\n",
        "  ds = ds.shuffle(shuffle_buffer)\n",
        "  ds = ds.map(lambda w: (w[:1], w[1:]))\n",
        "  return ds.batch(batch_size).prefetch(1)\n",
        "\n",
        "train_pwr_set = windowed_dataset(data_train,windows_size=6,batch_size=100,shuffle_buffer=1000)\n",
        "test_pwr_set = windowed_dataset(data_val,windows_size=6,batch_size=100,shuffle_buffer=1000)\n",
        "\n",
        "train_pwr_set.element_spec"
      ],
      "execution_count": null,
      "outputs": [
        {
          "output_type": "execute_result",
          "data": {
            "text/plain": [
              "(TensorSpec(shape=(None, None, 1), dtype=tf.float64, name=None),\n",
              " TensorSpec(shape=(None, None, 1), dtype=tf.float64, name=None))"
            ]
          },
          "metadata": {
            "tags": []
          },
          "execution_count": 34
        }
      ]
    },
    {
      "cell_type": "code",
      "metadata": {
        "id": "1S4A_32u71rx",
        "colab_type": "code",
        "colab": {
          "base_uri": "https://localhost:8080/",
          "height": 521
        },
        "outputId": "2b243b93-f0b0-4acc-b6fd-f30d6c69e55f"
      },
      "source": [
        "from tensorflow.keras.models import Sequential\n",
        "from tensorflow.keras.layers import LSTM\n",
        "from tensorflow.keras.layers import Dense\n",
        "from tensorflow.keras.layers import Flatten\n",
        "from tensorflow.keras.layers import Bidirectional\n",
        "from tensorflow.keras.optimizers import Adam\n",
        "from tensorflow.keras.losses import Huber\n",
        "\n",
        "model = Sequential()\n",
        "model.add(Bidirectional(LSTM(1024,activation='relu',return_sequences=True),input_shape=(n_steps,n_feature)))\n",
        "model.add(Bidirectional(LSTM(1024,activation='relu', return_sequences=True)))\n",
        "model.add(Bidirectional(LSTM(512,activation='relu', return_sequences=True)))\n",
        "model.add(Bidirectional(LSTM(512,activation='relu', return_sequences=True)))\n",
        "model.add(Bidirectional(LSTM(60,activation='relu')))\n",
        "model.add(Flatten())\n",
        "model.add(Dense(1024, activation='relu'))\n",
        "model.add(Dense(128, activation='relu'))\n",
        "model.add(Dense(64, activation='relu'))\n",
        "model.add(Dense(2, activation='relu'))\n",
        "model.add(Dense(1))\n",
        "\n",
        "optimizer = Adam(lr=1.000e-04)\n",
        "\n",
        "model.compile(\n",
        "    loss = Huber(),\n",
        "    optimizer = optimizer,\n",
        "    metrics=['mae']\n",
        ")\n",
        "\n",
        "model.summary()"
      ],
      "execution_count": null,
      "outputs": [
        {
          "output_type": "stream",
          "text": [
            "Model: \"sequential_2\"\n",
            "_________________________________________________________________\n",
            "Layer (type)                 Output Shape              Param #   \n",
            "=================================================================\n",
            "bidirectional_10 (Bidirectio (None, 1, 2048)           8404992   \n",
            "_________________________________________________________________\n",
            "bidirectional_11 (Bidirectio (None, 1, 2048)           25174016  \n",
            "_________________________________________________________________\n",
            "bidirectional_12 (Bidirectio (None, 1, 1024)           10489856  \n",
            "_________________________________________________________________\n",
            "bidirectional_13 (Bidirectio (None, 1, 1024)           6295552   \n",
            "_________________________________________________________________\n",
            "bidirectional_14 (Bidirectio (None, 120)               520800    \n",
            "_________________________________________________________________\n",
            "flatten_2 (Flatten)          (None, 120)               0         \n",
            "_________________________________________________________________\n",
            "dense_10 (Dense)             (None, 1024)              123904    \n",
            "_________________________________________________________________\n",
            "dense_11 (Dense)             (None, 128)               131200    \n",
            "_________________________________________________________________\n",
            "dense_12 (Dense)             (None, 64)                8256      \n",
            "_________________________________________________________________\n",
            "dense_13 (Dense)             (None, 2)                 130       \n",
            "_________________________________________________________________\n",
            "dense_14 (Dense)             (None, 1)                 3         \n",
            "=================================================================\n",
            "Total params: 51,148,709\n",
            "Trainable params: 51,148,709\n",
            "Non-trainable params: 0\n",
            "_________________________________________________________________\n"
          ],
          "name": "stdout"
        }
      ]
    },
    {
      "cell_type": "code",
      "metadata": {
        "id": "Lp7d6uPF_P_E",
        "colab_type": "code",
        "colab": {
          "base_uri": "https://localhost:8080/",
          "height": 286
        },
        "outputId": "5597841d-5c89-49da-b939-ff53eff730d3"
      },
      "source": [
        "import tensorflow as tf\n",
        "MAE_TRESHOLD = mae06\n",
        "\n",
        "class Callback(tf.keras.callbacks.Callback):\n",
        "  def on_epoch_end(self,epoch,logs={}):\n",
        "    if(logs.get('mae') < MAE_TRESHOLD):\n",
        "      print('\\n  MAE < {} or {}% Scala Dataset.\\n End the Training.'.format(MAE_TRESHOLD,(split2*100)))\n",
        "      self.model.stop_training = True\n",
        "     \n",
        "\n",
        "callbackval = Callback()\n",
        "saveLog =  tf.keras.callbacks.CSVLogger('trainingSubmissionTimeSeries(Power_plant)Log.csv',separator=',')\n",
        "\n",
        "with tf.device('/device:GPU:0'):\n",
        "  history = model.fit(\n",
        "                    train_pwr_set,\n",
        "                    epochs=15,\n",
        "                    steps_per_epoch=100,\n",
        "                    validation_steps=20,\n",
        "                    batch_size=100,\n",
        "                    validation_data = test_pwr_set,\n",
        "                    callbacks = [callbackval,saveLog],\n",
        "                    verbose=1\n",
        "                    )\n",
        "\n",
        "model.save('TimeSeriesmodel(PowerPlant).h5')\n",
        "print('Training selesai')"
      ],
      "execution_count": null,
      "outputs": [
        {
          "output_type": "stream",
          "text": [
            "Epoch 1/15\n",
            "100/100 [==============================] - 116s 1s/step - loss: 0.0474 - mae: 0.2497 - val_loss: 0.0639 - val_mae: 0.2841\n",
            "Epoch 2/15\n",
            "100/100 [==============================] - 114s 1s/step - loss: 0.0323 - mae: 0.2012 - val_loss: 0.0548 - val_mae: 0.2638\n",
            "Epoch 3/15\n",
            "100/100 [==============================] - 115s 1s/step - loss: 0.0252 - mae: 0.1725 - val_loss: 0.0337 - val_mae: 0.2112\n",
            "Epoch 4/15\n",
            "100/100 [==============================] - 115s 1s/step - loss: 0.0242 - mae: 0.1635 - val_loss: 0.0342 - val_mae: 0.2096\n",
            "Epoch 5/15\n",
            "100/100 [==============================] - 116s 1s/step - loss: 0.0215 - mae: 0.1556 - val_loss: 0.0330 - val_mae: 0.2073\n",
            "Epoch 6/15\n",
            "100/100 [==============================] - ETA: 0s - loss: 0.0196 - mae: 0.1504\n",
            "  MAE < 0.1518 or 3.2% Scala Dataset.\n",
            " End the Training.\n",
            "100/100 [==============================] - 115s 1s/step - loss: 0.0196 - mae: 0.1504 - val_loss: 0.0326 - val_mae: 0.2069\n",
            "Training selesai\n"
          ],
          "name": "stdout"
        }
      ]
    },
    {
      "cell_type": "code",
      "metadata": {
        "id": "H-oEARAVBk_N",
        "colab_type": "code",
        "colab": {
          "base_uri": "https://localhost:8080/",
          "height": 924
        },
        "outputId": "0cabf33d-32d4-4396-f3f2-bc6269b4a034"
      },
      "source": [
        "mae = history.history['mae']\n",
        "loss = history.history['loss']\n",
        "epoch = range(len(mae))\n",
        "val_mae = history.history['val_mae']\n",
        "val_loss = history.history['val_loss']\n",
        "\n",
        "\n",
        "def Trainplotting(Xaxes=[],Yaxes=[],Yval =[],title=''):\n",
        "  plt.figure(figsize=(10,6))\n",
        "  plt.plot(Xaxes,Yaxes,label='mae')\n",
        "  plt.plot(Xaxes, Yval,label='Loss')\n",
        "  plt.legend()\n",
        "  plt.title(title,fontsize=20)\n",
        "  plt.show()\n",
        " \n",
        "Trainplotting(epoch,mae,loss,title='Training Accuracy and Loss')\n",
        "print('\\n\\n')\n",
        "Trainplotting(epoch,val_mae,val_loss,title='Validation Training and Loss')\n",
        "\n",
        "mae_bool = True if mae[len(epoch)-1] < mae10 else False\n",
        "print('nilai data tertinggi: {}'.format(dataMae))\n",
        "print('Actual {}% skala data: {}'.format((split1*100),dataMaesix))\n",
        "print('Target {}% skala data: {}'.format((split2*100),dataMaetfv))\n",
        "print('MAE {}% = {}'.format((split2*100),mae06))\n",
        "print('MAE {}% = {}'.format((split1*100),mae10))\n",
        "print('MAE < {}% = {}'.format((split1*100),mae_bool)) "
      ],
      "execution_count": 38,
      "outputs": [
        {
          "output_type": "display_data",
          "data": {
            "image/png": "[encoded data removed]",
            "text/plain": [
              "<Figure size 720x432 with 1 Axes>"
            ]
          },
          "metadata": {
            "tags": [],
            "needs_background": "light"
          }
        },
        {
          "output_type": "stream",
          "text": [
            "\n",
            "\n",
            "\n"
          ],
          "name": "stdout"
        },
        {
          "output_type": "display_data",
          "data": {
            "image/png": "[encoded data removed]",
            "text/plain": [
              "<Figure size 720x432 with 1 Axes>"
            ]
          },
          "metadata": {
            "tags": [],
            "needs_background": "light"
          }
        },
        {
          "output_type": "stream",
          "text": [
            "nilai data tertinggi: 47465.0\n",
            "Actual 10.0% skala data: 4746\n",
            "Target 3.2% skala data: 1518\n",
            "MAE 3.2% = 0.1518\n",
            "MAE 10.0% = 0.4746\n",
            "MAE < 10.0% = True\n"
          ],
          "name": "stdout"
        }
      ]
    }
  ]
}